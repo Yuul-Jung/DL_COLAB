{
  "nbformat": 4,
  "nbformat_minor": 0,
  "metadata": {
    "colab": {
      "name": "밑바닥시작하는딥러닝_3장.ipynb",
      "provenance": [],
      "collapsed_sections": [],
      "authorship_tag": "ABX9TyNhnK2A3hy4DdBNvgYeXKxU",
      "include_colab_link": true
    },
    "kernelspec": {
      "name": "python3",
      "display_name": "Python 3"
    }
  },
  "cells": [
    {
      "cell_type": "markdown",
      "metadata": {
        "id": "view-in-github",
        "colab_type": "text"
      },
      "source": [
        "<a href=\"https://colab.research.google.com/github/Yuul-Jung/DL_COLAB/blob/master/%EB%B0%91%EB%B0%94%EB%8B%A5%EC%8B%9C%EC%9E%91%ED%95%98%EB%8A%94%EB%94%A5%EB%9F%AC%EB%8B%9D_2%EC%9E%A5.ipynb\" target=\"_parent\"><img src=\"https://colab.research.google.com/assets/colab-badge.svg\" alt=\"Open In Colab\"/></a>"
      ]
    },
    {
      "cell_type": "code",
      "metadata": {
        "id": "xx0fz3ysxTJA",
        "colab_type": "code",
        "colab": {
          "base_uri": "https://localhost:8080/",
          "height": 89
        },
        "outputId": "c90bd411-0181-43fb-c260-30367088eeff"
      },
      "source": [
        "#2.3 퍼셉트론 구현\n",
        "#2.3.1 간단한 구현\n",
        "def AND(x1, x2):\n",
        "  w1, w2, theta = 0.5, 0.5, 0.7\n",
        "  tmp = x1*w1 + x2*w2\n",
        "  if tmp <= theta:\n",
        "    return 0\n",
        "  elif tmp > theta:\n",
        "    return 1\n",
        "\n",
        "print(AND(0, 0))\n",
        "print(AND(0, 1))\n",
        "print(AND(1, 0))  \n",
        "print(AND(1, 1))"
      ],
      "execution_count": 30,
      "outputs": [
        {
          "output_type": "stream",
          "text": [
            "0\n",
            "0\n",
            "0\n",
            "1\n"
          ],
          "name": "stdout"
        }
      ]
    },
    {
      "cell_type": "code",
      "metadata": {
        "id": "v4qinbN6yyDD",
        "colab_type": "code",
        "colab": {
          "base_uri": "https://localhost:8080/",
          "height": 35
        },
        "outputId": "b665ac13-620a-49d4-f367-1eabb3d9ee12"
      },
      "source": [
        "#2.3 퍼셉트론 구현\n",
        "#2.3.2 가중치와 편향\n",
        "import numpy as np\n",
        "x = np.array([0, 1])  # 입력\n",
        "w = np.array([0.5, 0.5])  # 가중치\n",
        "b = -0.7\n",
        "np.sum(w*x) + b"
      ],
      "execution_count": 31,
      "outputs": [
        {
          "output_type": "execute_result",
          "data": {
            "text/plain": [
              "-0.19999999999999996"
            ]
          },
          "metadata": {
            "tags": []
          },
          "execution_count": 31
        }
      ]
    },
    {
      "cell_type": "code",
      "metadata": {
        "id": "bKv82onDEvMW",
        "colab_type": "code",
        "colab": {
          "base_uri": "https://localhost:8080/",
          "height": 89
        },
        "outputId": "4d6fb073-5528-4031-8459-f33a8aa71240"
      },
      "source": [
        "#2.3 퍼셉트론 구현\n",
        "#2.3.3 가중치와 편향 구현하기\n",
        "import numpy as np\n",
        "\n",
        "def AND2(x1, x2):\n",
        "  x = np.array([x1, x2])  # 입력\n",
        "  w = np.array([0.5, 0.5])  # 가중치\n",
        "  b = -0.7\n",
        "  tmp = np.sum(w*x) + b\n",
        "  if tmp <= 0:\n",
        "    return 0\n",
        "  else:\n",
        "    return 1\n",
        "\n",
        "print(AND2(0, 0))\n",
        "print(AND2(0, 1))\n",
        "print(AND2(1, 0))  \n",
        "print(AND2(1, 1))"
      ],
      "execution_count": 32,
      "outputs": [
        {
          "output_type": "stream",
          "text": [
            "0\n",
            "0\n",
            "0\n",
            "1\n"
          ],
          "name": "stdout"
        }
      ]
    },
    {
      "cell_type": "code",
      "metadata": {
        "id": "BZvD48meJi0q",
        "colab_type": "code",
        "colab": {
          "base_uri": "https://localhost:8080/",
          "height": 143
        },
        "outputId": "43609854-8daf-4ece-e154-11736c5ef1b4"
      },
      "source": [
        "#2.3 퍼셉트론 구현\n",
        "#2.3.3 가중치와 편향 구현하기\n",
        "import numpy as np\n",
        "\n",
        "class per:\n",
        "  def __init__(self):\n",
        "    pass\n",
        "\n",
        "  def AND(self, x1, x2):\n",
        "    x = np.array([x1, x2])  # 입력\n",
        "    w = np.array([0.5, 0.5])  # 가중치\n",
        "    b = -0.7\n",
        "    tmp = np.sum(w*x) + b\n",
        "\n",
        "    if tmp <= 0:\n",
        "      return 0\n",
        "    else:\n",
        "      return 1\n",
        "\n",
        "  def NAND(self, x1, x2):\n",
        "    x = np.array([x1, x2])  # 입력\n",
        "    w = np.array([-0.5, -0.5])  # 가중치\n",
        "    b = 0.7\n",
        "    tmp = np.sum(w*x) + b\n",
        "\n",
        "    if tmp <= 0:\n",
        "      return 0\n",
        "    else:\n",
        "      return 1\n",
        "\n",
        "  def OR(self, x1, x2):\n",
        "    x = np.array([x1, x2])\n",
        "    w = np.array([0.5, 0.5])\n",
        "    b = -0.2\n",
        "    tmp = np.sum(w*x) + b\n",
        "\n",
        "    if tmp <= 0:\n",
        "      return 0\n",
        "    else:\n",
        "      return 1\n",
        "\n",
        "#2.5 다층 퍼셉트론\n",
        "#2.5.2. EX-OR 게이트 구현하기\n",
        "\n",
        "  def XOR(self, x1, x2):\n",
        "    s1 = self.NAND(x1, x2)\n",
        "    s2 = self.OR(x1, x2)\n",
        "    y = self.AND(s1, s2)\n",
        "    return y\n",
        "\n",
        "\n",
        "# 출력 확인\n",
        "\n",
        "p = per()\n",
        "print(\"입력   1 : 0 0 1 1\")\n",
        "print(\"입력   2 : 0 1 0 1\")\n",
        "print(\"-------------------\")\n",
        "print(\"AND  출력:\", p.AND(0, 0), p.AND(0, 1), p.AND(1, 0), p.AND(1, 1))\n",
        "print(\"NAND 출력:\", p.NAND(0, 0), p.NAND(0, 1), p.NAND(1, 0), p.NAND(1, 1))\n",
        "print(\"OR   출력:\", p.OR(0, 0), p.OR(0, 1), p.OR(1, 0), p.OR(1, 1))\n",
        "print(\"XOR  출력:\", p.XOR(0, 0), p.XOR(0, 1), p.XOR(1, 0), p.XOR(1, 1))\n",
        "\n",
        "\n"
      ],
      "execution_count": 33,
      "outputs": [
        {
          "output_type": "stream",
          "text": [
            "입력   1 : 0 0 1 1\n",
            "입력   2 : 0 1 0 1\n",
            "-------------------\n",
            "AND  출력: 0 0 0 1\n",
            "NAND 출력: 1 1 1 0\n",
            "OR   출력: 0 1 1 1\n",
            "XOR  출력: 0 1 1 0\n"
          ],
          "name": "stdout"
        }
      ]
    },
    {
      "cell_type": "code",
      "metadata": {
        "id": "MFFiLYXwRhyF",
        "colab_type": "code",
        "colab": {}
      },
      "source": [
        ""
      ],
      "execution_count": 33,
      "outputs": []
    }
  ]
}